{
 "cells": [
  {
   "cell_type": "code",
   "execution_count": null,
   "metadata": {},
   "outputs": [
    {
     "name": "stderr",
     "output_type": "stream",
     "text": [
      "/Library/Frameworks/Python.framework/Versions/3.11/lib/python3.11/site-packages/statsmodels/tsa/statespace/sarimax.py:866: UserWarning: Too few observations to estimate starting parameters for seasonal ARMA. All parameters except for variances will be set to zeros.\n",
      "  warn('Too few observations to estimate starting parameters%s.'\n"
     ]
    }
   ],
   "source": [
    "import pandas as pd\n",
    "import numpy as np\n",
    "from statsmodels.tsa.statespace.sarimax import SARIMAX\n",
    "from sklearn.metrics import mean_squared_error\n",
    "import matplotlib.pyplot as plt\n",
    "\n",
    "# Generate a small example dataset\n",
    "np.random.seed(42)\n",
    "dates = pd.date_range(start='2020-01-01', end='2022-12-31', freq='D')\n",
    "n = len(dates)\n",
    "\n",
    "# Generate synthetic data\n",
    "data = pd.DataFrame({\n",
    "    'date': dates,\n",
    "    'TAVG': 20 + 5 * np.sin(2 * np.pi * (np.arange(n) / 365)) + np.random.normal(0, 2, n),  # Seasonal + noise\n",
    "    'PRCP': np.random.gamma(2, 1, n),  # Random precipitation data\n",
    "    'streamflow': 100 + 10 * np.sin(2 * np.pi * (np.arange(n) / 365)) + np.random.normal(0, 5, n)  # Seasonal + noise\n",
    "})\n",
    "\n",
    "# Calculate cumulative precipitation features\n",
    "data['PREC_year'] = data.groupby(data['date'].dt.year)['PRCP'].cumsum()\n",
    "data['PREC_month'] = data.groupby(data['date'].dt.month)['PRCP'].transform('sum')\n",
    "\n",
    "# Train-test split (80-20)\n",
    "train_size = int(len(data) * 0.8)\n",
    "train_data = data.iloc[:train_size]\n",
    "test_data = data.iloc[train_size:]\n",
    "\n",
    "# Define features and target\n",
    "features = ['TAVG', 'PRCP', 'PREC_year']\n",
    "target = 'streamflow'\n",
    "\n",
    "X_train = train_data[features]\n",
    "y_train = train_data[target]\n",
    "X_test = test_data[features]\n",
    "y_test = test_data[target]\n",
    "\n",
    "# Define SARIMAX model\n",
    "model = SARIMAX(\n",
    "    y_train,\n",
    "    exog=X_train,\n",
    "    order=(1, 1, 1),\n",
    "    seasonal_order=(1, 1, 1, 365),\n",
    "    enforce_stationarity=False,\n",
    "    enforce_invertibility=False\n",
    ")\n",
    "\n",
    "# Fit the model\n",
    "model_fit = model.fit(disp=False)\n",
    "\n",
    "# Forecast\n",
    "y_pred = model_fit.predict(start=len(y_train), end=len(y_train) + len(y_test) - 1, exog=X_test)\n",
    "\n",
    "# Calculate RMSE\n",
    "rmse = np.sqrt(mean_squared_error(y_test, y_pred))\n",
    "\n",
    "# Plot results\n",
    "plt.figure(figsize=(10, 6))\n",
    "plt.plot(test_data['date'], y_test, label='Actual', color='blue')\n",
    "plt.plot(test_data['date'], y_pred, label='Predicted', color='red')\n",
    "plt.title(f'SARIMAX Example - RMSE: {rmse:.2f}')\n",
    "plt.legend()\n",
    "plt.show()\n",
    "\n",
    "# Print results\n",
    "rmse"
   ]
  },
  {
   "cell_type": "code",
   "execution_count": 1,
   "metadata": {},
   "outputs": [
    {
     "name": "stdout",
     "output_type": "stream",
     "text": [
      "                                     SARIMAX Results                                     \n",
      "=========================================================================================\n",
      "Dep. Variable:                                 y   No. Observations:                  365\n",
      "Model:             SARIMAX(1, 1, 1)x(1, 1, 1, 7)   Log Likelihood               -1102.953\n",
      "Date:                           Tue, 26 Nov 2024   AIC                           2215.906\n",
      "Time:                                   22:13:16   BIC                           2235.294\n",
      "Sample:                                        0   HQIC                          2223.617\n",
      "                                           - 365                                         \n",
      "Covariance Type:                             opg                                         \n",
      "==============================================================================\n",
      "                 coef    std err          z      P>|z|      [0.025      0.975]\n",
      "------------------------------------------------------------------------------\n",
      "ar.L1          0.0636      0.063      1.014      0.310      -0.059       0.186\n",
      "ma.L1         -0.8885      0.030    -30.014      0.000      -0.947      -0.830\n",
      "ar.S.L7       -0.0941      0.060     -1.567      0.117      -0.212       0.024\n",
      "ma.S.L7       -0.9232      0.033    -28.369      0.000      -0.987      -0.859\n",
      "sigma2        26.9241      2.177     12.368      0.000      22.657      31.191\n",
      "===================================================================================\n",
      "Ljung-Box (L1) (Q):                   0.01   Jarque-Bera (JB):                 1.62\n",
      "Prob(Q):                              0.92   Prob(JB):                         0.44\n",
      "Heteroskedasticity (H):               1.16   Skew:                            -0.10\n",
      "Prob(H) (two-sided):                  0.41   Kurtosis:                         2.74\n",
      "===================================================================================\n",
      "\n",
      "Warnings:\n",
      "[1] Covariance matrix calculated using the outer product of gradients (complex-step).\n"
     ]
    }
   ],
   "source": [
    "import pandas as pd\n",
    "import numpy as np\n",
    "from statsmodels.tsa.statespace.sarimax import SARIMAX\n",
    "\n",
    "# Simple synthetic data\n",
    "data = pd.Series(100 + 10 * np.sin(np.linspace(0, 2 * np.pi, 365)) + np.random.normal(0, 5, 365))\n",
    "\n",
    "# Train SARIMAX\n",
    "model = SARIMAX(data, order=(1, 1, 1), seasonal_order=(1, 1, 1, 7))\n",
    "result = model.fit(disp=False)\n",
    "print(result.summary())"
   ]
  }
 ],
 "metadata": {
  "kernelspec": {
   "display_name": "Python 3",
   "language": "python",
   "name": "python3"
  },
  "language_info": {
   "codemirror_mode": {
    "name": "ipython",
    "version": 3
   },
   "file_extension": ".py",
   "mimetype": "text/x-python",
   "name": "python",
   "nbconvert_exporter": "python",
   "pygments_lexer": "ipython3",
   "version": "3.11.3"
  }
 },
 "nbformat": 4,
 "nbformat_minor": 2
}
