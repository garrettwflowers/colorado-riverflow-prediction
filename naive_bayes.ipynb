{
 "cells": [
  {
   "cell_type": "markdown",
   "metadata": {},
   "source": [
    "# Naive Bayes"
   ]
  },
  {
   "cell_type": "code",
   "execution_count": 2,
   "metadata": {},
   "outputs": [],
   "source": [
    "import pandas as pd\n",
    "import numpy as np\n",
    "import matplotlib.pyplot as plt\n",
    "import seaborn as sns\n",
    "\n",
    "from sklearn.model_selection import train_test_split\n",
    "from sklearn.preprocessing import StandardScaler, KBinsDiscretizer, Binarizer, OneHotEncoder\n",
    "from sklearn.naive_bayes import GaussianNB\n",
    "from sklearn.naive_bayes import MultinomialNB\n",
    "from sklearn.naive_bayes import BernoulliNB\n",
    "from sklearn.naive_bayes import CategoricalNB\n",
    "\n",
    "from sklearn.metrics import confusion_matrix"
   ]
  },
  {
   "cell_type": "markdown",
   "metadata": {},
   "source": [
    "## Data Prep"
   ]
  },
  {
   "cell_type": "code",
   "execution_count": 3,
   "metadata": {},
   "outputs": [
    {
     "name": "stderr",
     "output_type": "stream",
     "text": [
      "/Library/Frameworks/Python.framework/Versions/3.11/lib/python3.11/site-packages/sklearn/preprocessing/_encoders.py:975: FutureWarning: `sparse` was renamed to `sparse_output` in version 1.2 and will be removed in 1.4. `sparse_output` is ignored unless you leave `sparse` to its default value.\n",
      "  warnings.warn(\n"
     ]
    }
   ],
   "source": [
    "RANDOM_STATE = 9\n",
    "\n",
    "# Read in data\n",
    "df = pd.read_csv('data/streamflow_prediction_dataset_averaged_cols.csv')\n",
    "df = df.set_index('date')\n",
    "\n",
    "# Create binary snow variable\n",
    "df['Snow'] = np.where((df['WTEQ_BisonLake'] > 0) | (df['WTEQ_McClurePass'] > 0), \n",
    "                      1, 0)\n",
    "series_pred = df['Snow']\n",
    "df = df.drop(columns=['WTEQ_BisonLake', 'WTEQ_McClurePass'])\n",
    "\n",
    "# Standardize for Gaussian Naive Bayes\n",
    "scaler = StandardScaler()\n",
    "X_train_standardized = scaler.fit_transform(df.drop(columns=['Snow']))\n",
    "X_test_standardized = scaler.transform(df.drop(columns=['Snow']))\n",
    "\n",
    "# Discretize data for Multinomial Naive Bayes\n",
    "kbd = KBinsDiscretizer(n_bins=20, encode='ordinal', strategy='uniform', \n",
    "                       subsample=200000)\n",
    "X_train_discrete = kbd.fit_transform(df.drop(columns=['Snow']))\n",
    "X_test_discrete = kbd.transform(df.drop(columns=['Snow']))\n",
    "\n",
    "# Binarize data for Bernoulli Naive Bayes\n",
    "binarizer = Binarizer(threshold=0.5)\n",
    "X_train_binarized = binarizer.fit_transform(df.drop(columns=['Snow']))\n",
    "X_test_binarized = binarizer.transform(df.drop(columns=['Snow']))\n",
    "\n",
    "# One-hot encode data for Categorical Naive Bayes\n",
    "encoder = OneHotEncoder(max_categories=50, sparse=False)\n",
    "X_train_categorical = encoder.fit_transform(df.drop(columns=['Snow']))\n",
    "X_test_categorical = encoder.transform(df.drop(columns=['Snow']))\n",
    "\n",
    "# Split data\n",
    "X_train_standardized, X_test_standardized, y_train, y_test = train_test_split(\n",
    "X_train_standardized, series_pred, test_size=0.2, random_state=RANDOM_STATE)\n",
    "X_train_discrete, X_test_discrete, y_train, y_test = train_test_split(\n",
    "    X_train_discrete, series_pred, test_size=0.2, random_state=RANDOM_STATE)\n",
    "X_train_binarized, X_test_binarized, y_train, y_test = train_test_split(\n",
    "    X_train_binarized, series_pred, test_size=0.2, random_state=RANDOM_STATE)\n",
    "X_train_categorical, X_test_categorical, y_train, y_test = train_test_split(\n",
    "    X_train_categorical, series_pred, test_size=0.2, random_state=RANDOM_STATE)"
   ]
  },
  {
   "cell_type": "code",
   "execution_count": 4,
   "metadata": {},
   "outputs": [
    {
     "name": "stdout",
     "output_type": "stream",
     "text": [
      "Standardized Data:\n",
      "X_train_standardized.shape = (2396, 6)\n",
      "y_train.shape = (2396,)\n",
      "X_test_standardized.shape = (600, 6)\n",
      "y_test.shape = (600,)\n",
      "\n",
      "Discretized Data:\n",
      "X_train_discrete.shape = (2396, 6)\n",
      "y_train.shape = (2396,)\n",
      "X_test_discrete.shape = (600, 6)\n",
      "y_test.shape = (600,)\n",
      "\n",
      "Binarized Data:\n",
      "X_train_binarized.shape = (2396, 6)\n",
      "y_train.shape = (2396,)\n",
      "X_test_binarized.shape = (600, 6)\n",
      "y_test.shape = (600,)\n",
      "\n",
      "One-hot Encoded Data:\n",
      "X_train_categorical.shape = (2396, 300)\n",
      "y_train.shape = (2396,)\n",
      "X_test_categorical.shape = (600, 300)\n",
      "y_test.shape = (600,)\n"
     ]
    }
   ],
   "source": [
    "# compare shapes\n",
    "print('Standardized Data:')\n",
    "print(f\"{X_train_standardized.shape = }\")\n",
    "print(f\"{y_train.shape = }\")\n",
    "print(f\"{X_test_standardized.shape = }\")\n",
    "print(f\"{y_test.shape = }\")\n",
    "print('\\nDiscretized Data:')\n",
    "print(f\"{X_train_discrete.shape = }\")\n",
    "print(f\"{y_train.shape = }\")\n",
    "print(f\"{X_test_discrete.shape = }\")\n",
    "print(f\"{y_test.shape = }\")\n",
    "print('\\nBinarized Data:')\n",
    "print(f\"{X_train_binarized.shape = }\")\n",
    "print(f\"{y_train.shape = }\")\n",
    "print(f\"{X_test_binarized.shape = }\")\n",
    "print(f\"{y_test.shape = }\")\n",
    "print('\\nOne-hot Encoded Data:')\n",
    "print(f\"{X_train_categorical.shape = }\")\n",
    "print(f\"{y_train.shape = }\")\n",
    "print(f\"{X_test_categorical.shape = }\")\n",
    "print(f\"{y_test.shape = }\")"
   ]
  },
  {
   "cell_type": "markdown",
   "metadata": {},
   "source": [
    "### Why do we perform train-test split?\n",
    "\n",
    "A train-test split is essential in predictive modeling as it provides a structured method to assess model performance and minimize the risk of overfitting. Training a model on the entire dataset can lead to a situation where the model “memorizes” patterns specific to that dataset, which may not generalize well to new, unseen data. By setting aside a portion of data for testing, we ensure that the model is evaluated on a sample it has not encountered before, giving us a clearer indication of its ability to generalize. This process helps us detect when a model’s high accuracy is merely a result of fitting too closely to the training data, rather than an indicator of its predictive power on future data. Without a train-test split, it is challenging to identify if the model is genuinely effective or if it simply reflects patterns unique to the training set, which could lead to poor performance in real-world applications where data is often variable and unpredictable. Thus, the train-test split not only aids in validating the robustness of the model but also fosters more reliable predictions, ensuring that model performance metrics reflect its true capability."
   ]
  },
  {
   "cell_type": "markdown",
   "metadata": {},
   "source": [
    "## Gaussian Naive Bayes"
   ]
  },
  {
   "cell_type": "code",
   "execution_count": 5,
   "metadata": {},
   "outputs": [
    {
     "name": "stdout",
     "output_type": "stream",
     "text": [
      "Gaussian Model Accuracy: 0.9233333333333333\n",
      "\n",
      "Confusion Matrix:\n",
      "[[202  11]\n",
      " [ 35 352]]\n"
     ]
    },
    {
     "data": {
      "image/png": "[encoded data removed]",
      "text/plain": [
       "<Figure size 640x480 with 2 Axes>"
      ]
     },
     "metadata": {},
     "output_type": "display_data"
    }
   ],
   "source": [
    "# Model\n",
    "gnb = GaussianNB()\n",
    "gnb.fit(X_train_standardized, y_train)\n",
    "print(f'Gaussian Model Accuracy: {gnb.score(X_test_standardized, y_test)}\\n')\n",
    "\n",
    "# confusion matrix\n",
    "cm = confusion_matrix(y_test, gnb.predict(X_test_standardized))\n",
    "print(f'Confusion Matrix:\\n{cm}')\n",
    "\n",
    "# Visualize confusion matrix\n",
    "sns.heatmap(cm, annot=True, fmt='d')\n",
    "plt.xlabel('Predicted')\n",
    "plt.ylabel('True')\n",
    "plt.show()"
   ]
  },
  {
   "cell_type": "markdown",
   "metadata": {},
   "source": [
    "## Multinomial Naive Bayes"
   ]
  },
  {
   "cell_type": "code",
   "execution_count": 6,
   "metadata": {},
   "outputs": [
    {
     "name": "stdout",
     "output_type": "stream",
     "text": [
      "Multinomial Model Accuracy: 0.885\n",
      "\n",
      "Confusion Matrix:\n",
      "[[183  30]\n",
      " [ 39 348]]\n"
     ]
    }
   ],
   "source": [
    "mnb = MultinomialNB()\n",
    "\n",
    "mnb.fit(X_train_discrete, y_train)\n",
    "print(f'Multinomial Model Accuracy: {mnb.score(X_test_discrete, y_test)}\\n')\n",
    "\n",
    "# confusion matrix\n",
    "cm = confusion_matrix(y_test, mnb.predict(X_test_discrete))\n",
    "print(f'Confusion Matrix:\\n{cm}')"
   ]
  },
  {
   "cell_type": "markdown",
   "metadata": {},
   "source": [
    "## Bernoulli Naive Bayes"
   ]
  },
  {
   "cell_type": "code",
   "execution_count": 7,
   "metadata": {},
   "outputs": [
    {
     "name": "stdout",
     "output_type": "stream",
     "text": [
      "Bernoulli Model Accuracy: 0.6666666666666666\n",
      "\n",
      "Confusion Matrix:\n",
      "[[ 14 199]\n",
      " [  1 386]]\n"
     ]
    },
    {
     "data": {
      "image/png": "[encoded data removed]",
      "text/plain": [
       "<Figure size 640x480 with 2 Axes>"
      ]
     },
     "metadata": {},
     "output_type": "display_data"
    }
   ],
   "source": [
    "bnb = BernoulliNB()\n",
    "bnb.fit(X_train_binarized, y_train)\n",
    "print(f'Bernoulli Model Accuracy: {bnb.score(X_test_binarized, y_test)}\\n')\n",
    "\n",
    "# confusion matrix\n",
    "cm = confusion_matrix(y_test, bnb.predict(X_test_binarized))\n",
    "print(f'Confusion Matrix:\\n{cm}')\n",
    "\n",
    "# Visualize confusion matrix\n",
    "sns.heatmap(cm, annot=True, fmt='d')\n",
    "plt.xlabel('Predicted')\n",
    "plt.ylabel('True')\n",
    "plt.show()"
   ]
  },
  {
   "cell_type": "markdown",
   "metadata": {},
   "source": [
    "## Categorical Naive Bayes"
   ]
  },
  {
   "cell_type": "code",
   "execution_count": 8,
   "metadata": {},
   "outputs": [
    {
     "name": "stdout",
     "output_type": "stream",
     "text": [
      "Categorical Model Accuracy: 0.77\n",
      "\n",
      "Confusion Matrix:\n",
      "[[122  91]\n",
      " [ 47 340]]\n"
     ]
    },
    {
     "data": {
      "image/png": "[encoded data removed]",
      "text/plain": [
       "<Figure size 640x480 with 2 Axes>"
      ]
     },
     "metadata": {},
     "output_type": "display_data"
    }
   ],
   "source": [
    "cnb = CategoricalNB()\n",
    "cnb.fit(X_train_categorical, y_train)\n",
    "print(f'Categorical Model Accuracy: {cnb.score(X_test_categorical, y_test)}\\n')\n",
    "\n",
    "# confusion matrix\n",
    "cm = confusion_matrix(y_test, cnb.predict(X_test_categorical))\n",
    "print(f'Confusion Matrix:\\n{cm}')\n",
    "\n",
    "# Visualize confusion matrix\n",
    "sns.heatmap(cm, annot=True, fmt='d')\n",
    "plt.xlabel('Predicted')\n",
    "plt.ylabel('True')\n",
    "plt.show()"
   ]
  }
 ],
 "metadata": {
  "kernelspec": {
   "display_name": "Python 3",
   "language": "python",
   "name": "python3"
  },
  "language_info": {
   "codemirror_mode": {
    "name": "ipython",
    "version": 3
   },
   "file_extension": ".py",
   "mimetype": "text/x-python",
   "name": "python",
   "nbconvert_exporter": "python",
   "pygments_lexer": "ipython3",
   "version": "3.11.3"
  }
 },
 "nbformat": 4,
 "nbformat_minor": 2
}
